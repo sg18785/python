{
  "nbformat": 4,
  "nbformat_minor": 0,
  "metadata": {
    "colab": {
      "provenance": [],
      "authorship_tag": "ABX9TyNFEMQx+Gs87AGSNmjTVfVS",
      "include_colab_link": true
    },
    "kernelspec": {
      "name": "python3",
      "display_name": "Python 3"
    },
    "language_info": {
      "name": "python"
    }
  },
  "cells": [
    {
      "cell_type": "markdown",
      "metadata": {
        "id": "view-in-github",
        "colab_type": "text"
      },
      "source": [
        "<a href=\"https://colab.research.google.com/github/sg18785/python/blob/main/spark.ipynb\" target=\"_parent\"><img src=\"https://colab.research.google.com/assets/colab-badge.svg\" alt=\"Open In Colab\"/></a>"
      ]
    },
    {
      "cell_type": "markdown",
      "source": [],
      "metadata": {
        "id": "QDECwYb4LScy"
      }
    },
    {
      "cell_type": "markdown",
      "source": [
        "1. Write a code to fetch all phone numbers whose type is 'office'"
      ],
      "metadata": {
        "id": "RrqHRUC-Lhal"
      }
    },
    {
      "cell_type": "code",
      "source": [
        "from pyspark.sql import SparkSession\n",
        "from pyspark.sql.functions import col, explode\n",
        "\n",
        "# Create a Spark session\n",
        "spark = SparkSession.builder.appName(\"ReadJSON\").getOrCreate()\n",
        "\n",
        "# Read the JSON file into a DataFrame\n",
        "json_file_path = \"path/to/user01.json\"  # Replace with the actual file path\n",
        "data_df = spark.read.json(json_file_path)\n",
        "\n",
        "# Explode the phoneNumbers array to individual rows\n",
        "exploded_df = data_df.select(\"phoneNumbers\").withColumn(\"phoneNumber\", explode(col(\"phoneNumbers\")))\n",
        "\n",
        "# Filter rows where phoneNumber type is 'office'\n",
        "office_numbers_df = exploded_df.filter(col(\"phoneNumber.type\") == \"office\")\n",
        "\n",
        "# Select the phone number values\n",
        "office_phone_numbers = office_numbers_df.select(\"phoneNumber.number\")\n",
        "\n",
        "# Show the results\n",
        "office_phone_numbers.show()\n",
        "\n",
        "\n",
        "spark.stop()\n"
      ],
      "metadata": {
        "id": "ily-YX_JLUXy"
      },
      "execution_count": null,
      "outputs": []
    }
  ]
}