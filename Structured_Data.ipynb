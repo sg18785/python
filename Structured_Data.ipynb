{
  "nbformat": 4,
  "nbformat_minor": 0,
  "metadata": {
    "colab": {
      "provenance": [],
      "authorship_tag": "ABX9TyOL78bi989TtsvOEQSUnp7U",
      "include_colab_link": true
    },
    "kernelspec": {
      "name": "python3",
      "display_name": "Python 3"
    },
    "language_info": {
      "name": "python"
    }
  },
  "cells": [
    {
      "cell_type": "markdown",
      "metadata": {
        "id": "view-in-github",
        "colab_type": "text"
      },
      "source": [
        "<a href=\"https://colab.research.google.com/github/sg18785/python/blob/main/Structured_Data.ipynb\" target=\"_parent\"><img src=\"https://colab.research.google.com/assets/colab-badge.svg\" alt=\"Open In Colab\"/></a>"
      ]
    },
    {
      "cell_type": "markdown",
      "source": [
        "Problem Statement 01\n",
        "\n",
        "\n",
        "\n",
        "Create a table with the schema as specified below and load the data."
      ],
      "metadata": {
        "id": "1h8GyGguqthM"
      }
    },
    {
      "cell_type": "code",
      "source": [
        "CREATE TABLE my_table (\n",
        "  id INT,\n",
        "  tenure INT,\n",
        "  designation VARCHAR(255),\n",
        "  salary BIGINT\n",
        ");"
      ],
      "metadata": {
        "id": "ljibVw4Gqxxn"
      },
      "execution_count": null,
      "outputs": []
    },
    {
      "cell_type": "markdown",
      "source": [
        "Write a query to derive a new column extra_vacation based on the tenure served, the logic is as\n",
        "given below.\n",
        "1. If tenure < 2, Then 20\n",
        "2. If tenure is 2-10 then 30 days\n",
        "3. If tenure > 10 then 40 days\n"
      ],
      "metadata": {
        "id": "PtEpKMqqq3OO"
      }
    },
    {
      "cell_type": "code",
      "source": [
        "SELECT\n",
        "  id,\n",
        "  tenure,\n",
        "  CASE\n",
        "    WHEN tenure < 2 THEN 20\n",
        "    WHEN tenure BETWEEN 2 AND 10 THEN 30\n",
        "    ELSE 40\n",
        "  END AS extra_vacation\n",
        "FROM\n",
        "  employee;\n"
      ],
      "metadata": {
        "id": "PComcWvfq6ay"
      },
      "execution_count": null,
      "outputs": []
    },
    {
      "cell_type": "markdown",
      "source": [
        "Problem Statement 02\n"
      ],
      "metadata": {
        "id": "5881FJIsreeb"
      }
    },
    {
      "cell_type": "markdown",
      "source": [
        "Create a table “temperature” to store the dataset as mentioned in the schema and load the data."
      ],
      "metadata": {
        "id": "ETAbYt46rgvj"
      }
    },
    {
      "cell_type": "code",
      "source": [
        "-- Create the temperature table\n",
        "CREATE TABLE temperature (\n",
        "    date_string VARCHAR(20),\n",
        "    state VARCHAR(50),\n",
        "    temperature ARRAY<double>\n",
        ");\n"
      ],
      "metadata": {
        "id": "1lP41JJDrlGe"
      },
      "execution_count": null,
      "outputs": []
    },
    {
      "cell_type": "markdown",
      "source": [
        "Write a query to calculate the maximum temperature of each state."
      ],
      "metadata": {
        "id": "8VoNO1ZfsGaD"
      }
    },
    {
      "cell_type": "code",
      "source": [
        "SELECT\n",
        "    state,\n",
        "    MAX(temperature_value) AS max_temperature\n",
        "FROM\n",
        "    temperature\n",
        "CROSS JOIN UNNEST(temperature) AS temperature_value\n",
        "GROUP BY\n",
        "    state;\n"
      ],
      "metadata": {
        "id": "wapTo7mOsBq3"
      },
      "execution_count": null,
      "outputs": []
    },
    {
      "cell_type": "markdown",
      "source": [
        "Problem Statement 03"
      ],
      "metadata": {
        "id": "8nInC-WTsLHh"
      }
    },
    {
      "cell_type": "markdown",
      "source": [
        "Create a table 'student_marks' with schema as shown above and load the data into the\n",
        "'student_marks' table."
      ],
      "metadata": {
        "id": "fdLk-alQsSSI"
      }
    },
    {
      "cell_type": "code",
      "source": [
        "CREATE TABLE student_marks (\n",
        "  name VARCHAR(50),\n",
        "  marks_json JSON -- Use JSON data type to store the marks as a JSON object\n",
        ");"
      ],
      "metadata": {
        "id": "NNiWIKhdsRUI"
      },
      "execution_count": null,
      "outputs": []
    },
    {
      "cell_type": "markdown",
      "source": [
        "Display NAME who have scored more than 90 in the Maths subject:\n",
        "sql\n"
      ],
      "metadata": {
        "id": "mlMkw5i9s-xu"
      }
    },
    {
      "cell_type": "code",
      "source": [
        "SELECT name\n",
        "FROM student_marks\n",
        "WHERE CAST(marks_json ->> 'Maths' AS INT) > 90;\n"
      ],
      "metadata": {
        "id": "kaZEFOkntCHI"
      },
      "execution_count": null,
      "outputs": []
    },
    {
      "cell_type": "markdown",
      "source": [
        "Display NAME and Marks Scored in Physics subject:"
      ],
      "metadata": {
        "id": "FegElN8qtJXk"
      }
    },
    {
      "cell_type": "code",
      "source": [
        "SELECT name, CAST(marks_json ->> 'Physics' AS INT) AS \"Marks Scored in Physics\"\n",
        "FROM student_marks;\n"
      ],
      "metadata": {
        "id": "g4RhUVOqtOHG"
      },
      "execution_count": null,
      "outputs": []
    },
    {
      "cell_type": "markdown",
      "source": [
        "Display NAME and Maximum-Subject-Marks:"
      ],
      "metadata": {
        "id": "lTEbWxRutQon"
      }
    },
    {
      "cell_type": "code",
      "source": [
        "SELECT name, GREATEST(\n",
        "  CAST(marks_json ->> 'Maths' AS INT),\n",
        "  CAST(marks_json ->> 'Physics' AS INT),\n",
        "  CAST(marks_json ->> 'Chemistry' AS INT)\n",
        ") AS \"Maximum-Subject-Marks\"\n",
        "FROM student_marks;\n"
      ],
      "metadata": {
        "id": "lU4OkeQ1tUdp"
      },
      "execution_count": null,
      "outputs": []
    },
    {
      "cell_type": "markdown",
      "source": [
        "Display NAME and Average Marks Scored:"
      ],
      "metadata": {
        "id": "c-iFJ2xCtXJF"
      }
    },
    {
      "cell_type": "code",
      "source": [
        "SELECT name,\n",
        "  (CAST(marks_json ->> 'Maths' AS INT) + CAST(marks_json ->> 'Physics' AS INT) + CAST(marks_json ->> 'Chemistry' AS INT)) / 3.0 AS \"Average Marks Scored\"\n",
        "FROM student_marks;\n"
      ],
      "metadata": {
        "id": "JsE9_uO5tez4"
      },
      "execution_count": null,
      "outputs": []
    },
    {
      "cell_type": "markdown",
      "source": [
        "Display NAME and Percentage of Marks:"
      ],
      "metadata": {
        "id": "9f2BgqXEthmD"
      }
    },
    {
      "cell_type": "code",
      "source": [
        "SELECT name,\n",
        "  (CAST(marks_json ->> 'Maths' AS INT) + CAST(marks_json ->> 'Physics' AS INT) + CAST(marks_json ->> 'Chemistry' AS INT)) * 100.0 / (3 * 100) AS \"Percentage of marks\"\n",
        "FROM student_marks;\n"
      ],
      "metadata": {
        "id": "Wq25Sq6stlvI"
      },
      "execution_count": null,
      "outputs": []
    },
    {
      "cell_type": "markdown",
      "source": [
        "Problem Statement 04"
      ],
      "metadata": {
        "id": "S4CZP9ZXtn6y"
      }
    },
    {
      "cell_type": "markdown",
      "source": [
        "Create a table “student_info” with schema as show below and load the data"
      ],
      "metadata": {
        "id": "DWFKLEyxt3-l"
      }
    },
    {
      "cell_type": "code",
      "source": [
        "CREATE TABLE student_info (\n",
        "  name STRING,\n",
        "  marks MAP<STRING, INT>,\n",
        "  address STRUCT<\n",
        "    doorNo INT,\n",
        "    Location STRING,\n",
        "    Pincode INT\n",
        "  >\n",
        ");\n"
      ],
      "metadata": {
        "id": "T5I9BCy_t18i"
      },
      "execution_count": null,
      "outputs": []
    },
    {
      "cell_type": "markdown",
      "source": [
        "Display all \"NAME\" who is located in Banashankari:"
      ],
      "metadata": {
        "id": "DruzE2JOuanH"
      }
    },
    {
      "cell_type": "code",
      "source": [
        "SELECT name\n",
        "FROM student_info\n",
        "WHERE address.Location = 'Banashankari';\n"
      ],
      "metadata": {
        "id": "bjNSmnlmun2E"
      },
      "execution_count": null,
      "outputs": []
    },
    {
      "cell_type": "markdown",
      "source": [
        "Calculate the total count of students staying in pin code 560001:"
      ],
      "metadata": {
        "id": "S8oiH5uruq8O"
      }
    },
    {
      "cell_type": "code",
      "source": [
        "SELECT COUNT(*) AS total_count\n",
        "FROM student_info\n",
        "WHERE address.Pincode = 560001;\n"
      ],
      "metadata": {
        "id": "eY1ThJPruuYD"
      },
      "execution_count": null,
      "outputs": []
    }
  ]
}