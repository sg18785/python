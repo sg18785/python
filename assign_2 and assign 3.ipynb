{
  "nbformat": 4,
  "nbformat_minor": 0,
  "metadata": {
    "colab": {
      "provenance": [],
      "authorship_tag": "ABX9TyORR1GNsGrvz2e6HD3ztIxK",
      "include_colab_link": true
    },
    "kernelspec": {
      "name": "python3",
      "display_name": "Python 3"
    },
    "language_info": {
      "name": "python"
    }
  },
  "cells": [
    {
      "cell_type": "markdown",
      "metadata": {
        "id": "view-in-github",
        "colab_type": "text"
      },
      "source": [
        "<a href=\"https://colab.research.google.com/github/sg18785/python/blob/main/assign_2%20and%20assign%203.ipynb\" target=\"_parent\"><img src=\"https://colab.research.google.com/assets/colab-badge.svg\" alt=\"Open In Colab\"/></a>"
      ]
    },
    {
      "cell_type": "code",
      "execution_count": null,
      "metadata": {
        "id": "5awTlKD1KsVQ"
      },
      "outputs": [],
      "source": []
    },
    {
      "cell_type": "markdown",
      "source": [
        "assigmmnet 2"
      ],
      "metadata": {
        "id": "6ei-mKCZKtGp"
      }
    },
    {
      "cell_type": "code",
      "source": [
        "def compute_net_amount(log_message):\n",
        "    transactions = log_message.split()\n",
        "    net_amount = 0\n",
        "\n",
        "    for transaction in transactions:\n",
        "        if transaction.startswith('D:'):\n",
        "            amount = int(transaction[2:])\n",
        "            net_amount += amount\n",
        "        elif transaction.startswith('W:'):\n",
        "            amount = int(transaction[2:])\n",
        "            net_amount -= amount\n",
        "\n",
        "    return net_amount\n",
        "\n",
        "\n",
        "\n",
        "log_message = \"D:100 W:10\"\n",
        "net_amount = compute_net_amount(log_message)\n",
        "print(net_amount)\n",
        "\n",
        "log_message = \"D:100 W:200 D:400\"\n",
        "net_amount = compute_net_amount(log_message)\n",
        "print(net_amount)\n"
      ],
      "metadata": {
        "colab": {
          "base_uri": "https://localhost:8080/"
        },
        "id": "uGBbksXDKvTf",
        "outputId": "3db0d5d3-1e4e-463d-fa43-1c739d7b95db"
      },
      "execution_count": 8,
      "outputs": [
        {
          "output_type": "stream",
          "name": "stdout",
          "text": [
            "90\n",
            "300\n"
          ]
        }
      ]
    },
    {
      "cell_type": "code",
      "source": [
        "\n"
      ],
      "metadata": {
        "colab": {
          "base_uri": "https://localhost:8080/"
        },
        "id": "mPP1_Su2K3VB",
        "outputId": "2d6238b9-3ba1-429e-8de9-9aef90138a41"
      },
      "execution_count": 6,
      "outputs": [
        {
          "output_type": "stream",
          "name": "stdout",
          "text": [
            "100\n",
            "100\n"
          ]
        }
      ]
    },
    {
      "cell_type": "code",
      "source": [],
      "metadata": {
        "id": "HVnUX26VLEIt"
      },
      "execution_count": null,
      "outputs": []
    },
    {
      "cell_type": "markdown",
      "source": [
        "assignment3"
      ],
      "metadata": {
        "id": "lnuQF_MFL6J2"
      }
    },
    {
      "cell_type": "code",
      "source": [
        "num_calls = int(input(\"Enter the number of calls: \"))\n",
        "\n",
        "if num_calls <= 100:\n",
        "    bill_amount = 200\n",
        "elif num_calls <= 150:\n",
        "    bill_amount = 200 + (num_calls - 100) * 0.6\n",
        "elif num_calls <= 200:\n",
        "    bill_amount = 200 + 50 * 0.6 + (num_calls - 150) * 0.5\n",
        "else:\n",
        "    bill_amount = 200 + 50 * 0.6 + 50 * 0.5 + (num_calls - 200) * 0.4\n",
        "\n",
        "print(\"Monthly telephone bill: Rs\", bill_amount)\n"
      ],
      "metadata": {
        "colab": {
          "base_uri": "https://localhost:8080/"
        },
        "id": "02yrCtRiL7f_",
        "outputId": "b80e4ac3-1719-4763-e581-28f1fdebe81f"
      },
      "execution_count": 9,
      "outputs": [
        {
          "output_type": "stream",
          "name": "stdout",
          "text": [
            "Enter the number of calls: 300\n",
            "Monthly telephone bill: Rs 295.0\n"
          ]
        }
      ]
    },
    {
      "cell_type": "code",
      "source": [],
      "metadata": {
        "id": "nUGkRUj0L9LG"
      },
      "execution_count": 10,
      "outputs": []
    },
    {
      "cell_type": "markdown",
      "source": [],
      "metadata": {
        "id": "gCZZqmW1MIEB"
      }
    },
    {
      "cell_type": "code",
      "source": [],
      "metadata": {
        "id": "B-kdt-6SMDRo"
      },
      "execution_count": null,
      "outputs": []
    }
  ]
}