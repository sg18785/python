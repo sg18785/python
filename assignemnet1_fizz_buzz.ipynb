{
  "nbformat": 4,
  "nbformat_minor": 0,
  "metadata": {
    "colab": {
      "provenance": [],
      "authorship_tag": "ABX9TyPIJMpyJs5tnAnz8PqD8CIx",
      "include_colab_link": true
    },
    "kernelspec": {
      "name": "python3",
      "display_name": "Python 3"
    },
    "language_info": {
      "name": "python"
    }
  },
  "cells": [
    {
      "cell_type": "markdown",
      "metadata": {
        "id": "view-in-github",
        "colab_type": "text"
      },
      "source": [
        "<a href=\"https://colab.research.google.com/github/sg18785/python/blob/main/assignemnet1_fizz_buzz.ipynb\" target=\"_parent\"><img src=\"https://colab.research.google.com/assets/colab-badge.svg\" alt=\"Open In Colab\"/></a>"
      ]
    },
    {
      "cell_type": "code",
      "execution_count": 1,
      "metadata": {
        "colab": {
          "base_uri": "https://localhost:8080/"
        },
        "id": "NecRhm7sJfqU",
        "outputId": "ddeb5f44-4102-4b0b-dfa8-284a7583e76e"
      },
      "outputs": [
        {
          "output_type": "stream",
          "name": "stdout",
          "text": [
            "Enter a number: 10\n",
            "1\n",
            "2\n",
            "Fizz\n",
            "4\n",
            "Fuzz\n",
            "Fizz\n",
            "7\n",
            "8\n",
            "Fizz\n",
            "Fuzz\n"
          ]
        }
      ],
      "source": [
        "num = int(input(\"Enter a number: \"))\n",
        "\n",
        "for i in range(1, num+1):\n",
        "    if i % 3 == 0 and i % 5 == 0:\n",
        "        print(\"FizzFuzz\")\n",
        "    elif i % 3 == 0:\n",
        "        print(\"Fizz\")\n",
        "    elif i % 5 == 0:\n",
        "        print(\"Fuzz\")\n",
        "    else:\n",
        "        print(i)\n"
      ]
    }
  ]
}