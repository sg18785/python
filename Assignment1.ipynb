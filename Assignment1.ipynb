{
  "nbformat": 4,
  "nbformat_minor": 0,
  "metadata": {
    "colab": {
      "provenance": [],
      "name": "Assignment1.ipynb",
      "authorship_tag": "ABX9TyNWrmF+bJZY+uL3QtIdSgKC",
      "include_colab_link": true
    },
    "kernelspec": {
      "name": "python3",
      "display_name": "Python 3"
    },
    "language_info": {
      "name": "python"
    }
  },
  "cells": [
    {
      "cell_type": "markdown",
      "metadata": {
        "id": "view-in-github",
        "colab_type": "text"
      },
      "source": [
        "<a href=\"https://colab.research.google.com/github/sg18785/python/blob/main/Assignment1.ipynb\" target=\"_parent\"><img src=\"https://colab.research.google.com/assets/colab-badge.svg\" alt=\"Open In Colab\"/></a>"
      ]
    },
    {
      "cell_type": "code",
      "execution_count": null,
      "metadata": {
        "colab": {
          "base_uri": "https://localhost:8080/"
        },
        "id": "d6G-QxP099gQ",
        "outputId": "ef043c27-f269-4aa5-dacc-ffcb9182a228"
      },
      "outputs": [
        {
          "output_type": "stream",
          "name": "stdout",
          "text": [
            "['phone.jpg', 'view.jpg', 'bear.jpg']\n"
          ]
        }
      ],
      "source": [
        "filenames = ['view.jpg', 'bear.jpg', 'ball.png']\n",
        "filenames.insert(0, 'phone.jpg')\n",
        "filenames.remove('ball.png')\n",
        "print(filenames)"
      ]
    },
    {
      "cell_type": "code",
      "source": [
        "L = [1, 2, 3, 4, 5, 6, 7, 8, 9, 10]\n",
        "\n",
        "# Initialize variables\n",
        "max_num = L[0]\n",
        "min_num = L[0]\n",
        "sum_nums = 0\n",
        "for num in L:\n",
        "    if num > max_num:\n",
        "        max_num = num\n",
        "    if num < min_num:\n",
        "        min_num = num\n",
        "    sum_nums += num\n",
        "average = sum_nums / len(L)\n",
        "print(\"Maximum:\", max_num)\n",
        "print(\"Minimum:\", min_num)\n",
        "print(\"Average:\", average)\n"
      ],
      "metadata": {
        "colab": {
          "base_uri": "https://localhost:8080/"
        },
        "id": "8eAfLkYs-unE",
        "outputId": "9db9f530-eaf4-4d4f-e07e-2589e0d084ea"
      },
      "execution_count": null,
      "outputs": [
        {
          "output_type": "stream",
          "name": "stdout",
          "text": [
            "Maximum: 10\n",
            "Minimum: 1\n",
            "Average: 5.5\n"
          ]
        }
      ]
    }
  ]
}