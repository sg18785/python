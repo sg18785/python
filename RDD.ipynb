{
  "nbformat": 4,
  "nbformat_minor": 0,
  "metadata": {
    "colab": {
      "provenance": [],
      "authorship_tag": "ABX9TyOAAoU4VqPClL8gjsbBUTDl",
      "include_colab_link": true
    },
    "kernelspec": {
      "name": "python3",
      "display_name": "Python 3"
    },
    "language_info": {
      "name": "python"
    }
  },
  "cells": [
    {
      "cell_type": "markdown",
      "metadata": {
        "id": "view-in-github",
        "colab_type": "text"
      },
      "source": [
        "<a href=\"https://colab.research.google.com/github/sg18785/python/blob/main/RDD.ipynb\" target=\"_parent\"><img src=\"https://colab.research.google.com/assets/colab-badge.svg\" alt=\"Open In Colab\"/></a>"
      ]
    },
    {
      "cell_type": "markdown",
      "source": [
        "Problem Statement 01"
      ],
      "metadata": {
        "id": "m8_YUs8sJG6x"
      }
    },
    {
      "cell_type": "code",
      "source": [
        "import org.apache.spark.{SparkConf, SparkContext}\n",
        "\n",
        "object RDDExample {\n",
        "  def main(args: Array[String]): Unit = {\n",
        "    val conf = new SparkConf().setAppName(\"RDDExample\").setMaster(\"local[*]\")\n",
        "    val sc = new SparkContext(conf)\n",
        "\n",
        "    val data = Seq(\"C\", \"Programming\", \"C++\", \"Java\", \"Scala\", \"Python\")\n",
        "    val rdd = sc.parallelize(data)\n",
        "\n",
        "    // Filter elements greater than length 5\n",
        "    val filteredRDD = rdd.filter(_.length > 5)\n",
        "    val filteredOutput = filteredRDD.collect().mkString(\" \")\n",
        "\n",
        "    println(\"Elements greater than length 5:\")\n",
        "    println(filteredOutput)\n",
        "\n",
        "    // Print elements in reverse order\n",
        "    val reverseRDD = rdd.reverse()\n",
        "    val reverseOutput = reverseRDD.collect().mkString(\" \")\n",
        "\n",
        "    println(\"Elements in reverse order:\")\n",
        "    println(reverseOutput)\n",
        "\n",
        "    sc.stop()\n",
        "  }\n",
        "}\n"
      ],
      "metadata": {
        "id": "c4yWGl8fJH2z"
      },
      "execution_count": null,
      "outputs": []
    },
    {
      "cell_type": "markdown",
      "source": [
        "Generate an RDD[Int] which is multiples of 1024 lets say the numbers are in kilobytes and we\n",
        "want to convert each element to its respective MB and perform the following tasks.\n",
        "1. Convert each element of RDD to its respective MB.\n",
        "2. Filter elements which are greater than 10 MB\n",
        "3. Apply transformation to convert MB to GB"
      ],
      "metadata": {
        "id": "zwHYzQMrJeuE"
      }
    },
    {
      "cell_type": "code",
      "source": [
        "import org.apache.spark.{SparkConf, SparkContext}\n",
        "\n",
        "object RDDTransformations {\n",
        "  def main(args: Array[String]): Unit = {\n",
        "    val conf = new SparkConf().setAppName(\"RDDTransformations\").setMaster(\"local[*]\")\n",
        "    val sc = new SparkContext(conf)\n",
        "\n",
        "    val kilobytes = Seq(1024, 2048, 3072, 4096, 5120, 6144, 7168, 8192)\n",
        "    val rdd = sc.parallelize(kilobytes)\n",
        "\n",
        "    // Convert each element to its respective MB\n",
        "    val mbRDD = rdd.map(_ / 1024.0)\n",
        "\n",
        "    // Filter elements greater than 10 MB\n",
        "    val filteredRDD = mbRDD.filter(_ > 10)\n",
        "\n",
        "    // Apply transformation to convert MB to GB\n",
        "    val gbRDD = filteredRDD.map(_ / 1024.0)\n",
        "\n",
        "    println(\"Elements in MB:\")\n",
        "    mbRDD.collect().foreach(mb => println(s\"$mb MB\"))\n",
        "\n",
        "    println(\"Elements greater than 10 MB:\")\n",
        "    filteredRDD.collect().foreach(mb => println(s\"$mb MB\"))\n",
        "\n",
        "    println(\"Elements in GB:\")\n",
        "    gbRDD.collect().foreach(gb => println(s\"$gb GB\"))\n",
        "\n",
        "    sc.stop()\n",
        "  }\n",
        "}\n"
      ],
      "metadata": {
        "id": "_C35U1JGJfi-"
      },
      "execution_count": null,
      "outputs": []
    }
  ]
}