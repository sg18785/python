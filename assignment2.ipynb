{
  "nbformat": 4,
  "nbformat_minor": 0,
  "metadata": {
    "colab": {
      "provenance": [],
      "authorship_tag": "ABX9TyOerhyJpcIWDYBCdyEexV7Q",
      "include_colab_link": true
    },
    "kernelspec": {
      "name": "python3",
      "display_name": "Python 3"
    },
    "language_info": {
      "name": "python"
    }
  },
  "cells": [
    {
      "cell_type": "markdown",
      "metadata": {
        "id": "view-in-github",
        "colab_type": "text"
      },
      "source": [
        "<a href=\"https://colab.research.google.com/github/sg18785/python/blob/main/assignment2.ipynb\" target=\"_parent\"><img src=\"https://colab.research.google.com/assets/colab-badge.svg\" alt=\"Open In Colab\"/></a>"
      ]
    },
    {
      "cell_type": "code",
      "execution_count": 4,
      "metadata": {
        "colab": {
          "base_uri": "https://localhost:8080/"
        },
        "id": "ipROq0v5Bm4x",
        "outputId": "c7041900-fcde-4760-e6ce-fbe116a78118"
      },
      "outputs": [
        {
          "output_type": "stream",
          "name": "stdout",
          "text": [
            "[1, 2, 3, 4, 5]\n"
          ]
        }
      ],
      "source": [
        "def print_unique_elements(lst):\n",
        "    unique_elements = []\n",
        "\n",
        "    for item in lst:\n",
        "        if item not in unique_elements:\n",
        "            unique_elements.append(item)\n",
        "\n",
        "    unique_elements = [i for i in unique_elements]\n",
        "    print(unique_elements)\n",
        "\n",
        "L = [1, 1, 1, 1, 2, 2, 3, 3, 3, 3, 4, 5]\n",
        "print_unique_elements(L)\n"
      ]
    },
    {
      "cell_type": "code",
      "source": [
        "def check_number_existence(lst, num):\n",
        "    for item in lst:\n",
        "        if isinstance(item, list):\n",
        "            if num in item:\n",
        "                return True\n",
        "        else:\n",
        "            if item == num:\n",
        "                return True\n",
        "    return False\n",
        "\n",
        "L = [1, 2, 3, 4, [4, 3]]\n",
        "number = 3\n",
        "\n",
        "if check_number_existence(L, number):\n",
        "    print(f\"The number {number} exists in the inner list.\")\n",
        "else:\n",
        "    print(f\"The number {number} does not exist in the inner list.\")\n"
      ],
      "metadata": {
        "colab": {
          "base_uri": "https://localhost:8080/"
        },
        "id": "5e31F-DCCVcw",
        "outputId": "1042f429-b937-449d-fc02-c1b3762eef26"
      },
      "execution_count": 5,
      "outputs": [
        {
          "output_type": "stream",
          "name": "stdout",
          "text": [
            "The number 3 exists in the inner list.\n"
          ]
        }
      ]
    },
    {
      "cell_type": "code",
      "source": [],
      "metadata": {
        "id": "npXt6pwNBsGW"
      },
      "execution_count": null,
      "outputs": []
    }
  ]
}