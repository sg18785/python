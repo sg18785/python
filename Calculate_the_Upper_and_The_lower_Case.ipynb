{
  "nbformat": 4,
  "nbformat_minor": 0,
  "metadata": {
    "colab": {
      "provenance": [],
      "authorship_tag": "ABX9TyNn/YZgJwiHMyBTVbjqBOj3",
      "include_colab_link": true
    },
    "kernelspec": {
      "name": "python3",
      "display_name": "Python 3"
    },
    "language_info": {
      "name": "python"
    }
  },
  "cells": [
    {
      "cell_type": "markdown",
      "metadata": {
        "id": "view-in-github",
        "colab_type": "text"
      },
      "source": [
        "<a href=\"https://colab.research.google.com/github/sg18785/python/blob/main/Calculate_the_Upper_and_The_lower_Case.ipynb\" target=\"_parent\"><img src=\"https://colab.research.google.com/assets/colab-badge.svg\" alt=\"Open In Colab\"/></a>"
      ]
    },
    {
      "cell_type": "code",
      "execution_count": 1,
      "metadata": {
        "colab": {
          "base_uri": "https://localhost:8080/"
        },
        "id": "Aw1nZDI6E-Y0",
        "outputId": "ecace1c4-08ba-4597-94cb-b18ac9620eb4"
      },
      "outputs": [
        {
          "output_type": "stream",
          "name": "stdout",
          "text": [
            "No. of Upper case characters: 3\n",
            "No. of Lower case characters: 12\n"
          ]
        }
      ],
      "source": [
        "def count_upper_lower_characters(input_string):\n",
        "    upper_count = 0\n",
        "    lower_count = 0\n",
        "    for char in input_string:\n",
        "        if char.isupper():\n",
        "            upper_count += 1\n",
        "        elif char.islower():\n",
        "            lower_count += 1\n",
        "    return upper_count, lower_count\n",
        "\n",
        "sample_string = 'The quick Brow Fox'\n",
        "upper, lower = count_upper_lower_characters(sample_string)\n",
        "print(\"No. of Upper case characters:\", upper)\n",
        "print(\"No. of Lower case characters:\", lower)\n"
      ]
    }
  ]
}