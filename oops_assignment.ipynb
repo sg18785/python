{
  "nbformat": 4,
  "nbformat_minor": 0,
  "metadata": {
    "colab": {
      "provenance": [],
      "authorship_tag": "ABX9TyPfB4XzQWX0JgffZomoqTBM",
      "include_colab_link": true
    },
    "kernelspec": {
      "name": "python3",
      "display_name": "Python 3"
    },
    "language_info": {
      "name": "python"
    }
  },
  "cells": [
    {
      "cell_type": "markdown",
      "metadata": {
        "id": "view-in-github",
        "colab_type": "text"
      },
      "source": [
        "<a href=\"https://colab.research.google.com/github/sg18785/python/blob/main/oops_assignment.ipynb\" target=\"_parent\"><img src=\"https://colab.research.google.com/assets/colab-badge.svg\" alt=\"Open In Colab\"/></a>"
      ]
    },
    {
      "cell_type": "markdown",
      "source": [
        "Challange 1"
      ],
      "metadata": {
        "id": "TyR5ARRSGj4D"
      }
    },
    {
      "cell_type": "code",
      "execution_count": 1,
      "metadata": {
        "colab": {
          "base_uri": "https://localhost:8080/"
        },
        "id": "svcP4fcuGV8W",
        "outputId": "9b5648c6-dbd1-4a33-913b-c71d5ccd4e49"
      },
      "outputs": [
        {
          "output_type": "stream",
          "name": "stdout",
          "text": [
            "1\n",
            "3\n",
            "5\n",
            "35\n"
          ]
        }
      ],
      "source": [
        "class Point:\n",
        "    def __init__(self, x, y, z):\n",
        "        self.x = x\n",
        "        self.y = y\n",
        "        self.z = z\n",
        "\n",
        "    def sqSum(self):\n",
        "        return self.x**2 + self.y**2 + self.z**2\n",
        "p = Point(1, 3, 5)\n",
        "print(p.x)\n",
        "print(p.y)\n",
        "print(p.z)\n",
        "result = p.sqSum()\n",
        "print(result)\n"
      ]
    },
    {
      "cell_type": "code",
      "source": [],
      "metadata": {
        "id": "V24EndYSGrz6"
      },
      "execution_count": null,
      "outputs": []
    },
    {
      "cell_type": "markdown",
      "source": [
        "Challange 2"
      ],
      "metadata": {
        "id": "J9y_OfBbGvAz"
      }
    },
    {
      "cell_type": "code",
      "source": [
        "class Calculator:\n",
        "    def __init__(self, num1, num2):\n",
        "        self.num1 = num1\n",
        "        self.num2 = num2\n",
        "\n",
        "    def add(self):\n",
        "        return self.num1 + self.num2\n",
        "\n",
        "    def subtract(self):\n",
        "        return self.num2 - self.num1\n",
        "\n",
        "    def multiply(self):\n",
        "        return self.num1 * self.num2\n",
        "\n",
        "    def divide(self):\n",
        "        return self.num2 / self.num1\n",
        "\n",
        "\n",
        "\n",
        "obj = Calculator(10, 94)\n",
        "\n",
        "\n",
        "print(obj.add())\n",
        "print(obj.subtract())\n",
        "print(obj.multiply())\n",
        "print(obj.divide())\n"
      ],
      "metadata": {
        "colab": {
          "base_uri": "https://localhost:8080/"
        },
        "id": "zWKkE8v6Gwce",
        "outputId": "020c142e-aab5-40e8-fa55-5d4b0d3c6c95"
      },
      "execution_count": 3,
      "outputs": [
        {
          "output_type": "stream",
          "name": "stdout",
          "text": [
            "104\n",
            "84\n",
            "940\n",
            "9.4\n"
          ]
        }
      ]
    },
    {
      "cell_type": "markdown",
      "source": [
        "challange3"
      ],
      "metadata": {
        "id": "OkQ4vB1kHH1B"
      }
    },
    {
      "cell_type": "code",
      "source": [
        "class Student:\n",
        "    def __init__(self):\n",
        "        self._name = None\n",
        "        self._rollNumber = None\n",
        "\n",
        "    def setName(self, name):\n",
        "        self._name = name\n",
        "\n",
        "    def getName(self):\n",
        "        return self._name\n",
        "\n",
        "    def setRollNumber(self, rollNumber):\n",
        "        self._rollNumber = rollNumber\n",
        "\n",
        "    def getRollNumber(self):\n",
        "        return self._rollNumber\n",
        "\n",
        "\n",
        "\n",
        "student = Student()\n",
        "\n",
        "student.setName(\"John Doe\")\n",
        "student.setRollNumber(12345)\n",
        "name = student.getName()\n",
        "rollNumber = student.getRollNumber()\n",
        "print(\"Name:\", name)\n",
        "print(\"Roll Number:\", rollNumber)\n"
      ],
      "metadata": {
        "colab": {
          "base_uri": "https://localhost:8080/"
        },
        "id": "ZhhiCzILHKVi",
        "outputId": "c77fdab2-a55f-4920-e0e9-a26b79c338a7"
      },
      "execution_count": 4,
      "outputs": [
        {
          "output_type": "stream",
          "name": "stdout",
          "text": [
            "Name: John Doe\n",
            "Roll Number: 12345\n"
          ]
        }
      ]
    },
    {
      "cell_type": "markdown",
      "source": [
        "challange4"
      ],
      "metadata": {
        "id": "8NB_SZrYHlQ8"
      }
    },
    {
      "cell_type": "code",
      "source": [
        "class Account:\n",
        "    def __init__(self, title, balance):\n",
        "        self.title = title\n",
        "        self.balance = balance\n",
        "\n",
        "\n",
        "class SavingsAccount(Account):\n",
        "    def __init__(self, title, balance, interestRate):\n",
        "        super().__init__(title, balance)\n",
        "        self.interestRate = interestRate\n",
        "\n",
        "account = Account(\"Ashish\", 5000)\n",
        "\n",
        "print(\"Title:\", account.title)\n",
        "print(\"Balance:\", account.balance)\n",
        "\n",
        "savings_account = SavingsAccount(\"Ashish\", 5000, 5)\n",
        "\n",
        "print(\"Title:\", savings_account.title)\n",
        "print(\"Balance:\", savings_account.balance)\n",
        "print(\"Interest Rate:\", savings_account.interestRate)\n"
      ],
      "metadata": {
        "colab": {
          "base_uri": "https://localhost:8080/"
        },
        "id": "EKv6uPn-Hm2D",
        "outputId": "14efe405-bb56-412e-e30b-d3be962f76a5"
      },
      "execution_count": 5,
      "outputs": [
        {
          "output_type": "stream",
          "name": "stdout",
          "text": [
            "Title: Ashish\n",
            "Balance: 5000\n",
            "Title: Ashish\n",
            "Balance: 5000\n",
            "Interest Rate: 5\n"
          ]
        }
      ]
    },
    {
      "cell_type": "markdown",
      "source": [
        "Challange5"
      ],
      "metadata": {
        "id": "XAOYFa8nIIKn"
      }
    },
    {
      "cell_type": "code",
      "source": [
        "class Account:\n",
        "    def __init__(self, title=None, balance=0):\n",
        "        self.title = title\n",
        "        self.balance = balance\n",
        "\n",
        "    def withdrawal(self, amount):\n",
        "        self.balance -= amount\n",
        "\n",
        "    def deposit(self, amount):\n",
        "        self.balance += amount\n",
        "\n",
        "    def getBalance(self):\n",
        "        return self.balance\n",
        "\n",
        "\n",
        "class SavingsAccount(Account):\n",
        "    def __init__(self, title=None, balance=0, interestRate=0):\n",
        "        super().__init__(title, balance)\n",
        "        self.interestRate = interestRate\n",
        "\n",
        "    def interestAmount(self):\n",
        "        return (self.balance * self.interestRate) / 100\n",
        "\n",
        "\n",
        "\n",
        "demo1 = SavingsAccount(\"Ashish\", 2000, 5)\n",
        "\n",
        "demo1.deposit(500)\n",
        "\n",
        "demo1.withdrawal(500)\n",
        "\n",
        "interest = demo1.interestAmount()\n",
        "print(interest)\n"
      ],
      "metadata": {
        "colab": {
          "base_uri": "https://localhost:8080/"
        },
        "id": "YXCsf6_kIKM8",
        "outputId": "c866f9da-d743-4d4f-c5e4-0eba7c5298ed"
      },
      "execution_count": 7,
      "outputs": [
        {
          "output_type": "stream",
          "name": "stdout",
          "text": [
            "100.0\n"
          ]
        }
      ]
    },
    {
      "cell_type": "code",
      "source": [],
      "metadata": {
        "id": "N9h0lPoLIf6_"
      },
      "execution_count": null,
      "outputs": []
    }
  ]
}