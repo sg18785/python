{
  "nbformat": 4,
  "nbformat_minor": 0,
  "metadata": {
    "colab": {
      "provenance": [],
      "authorship_tag": "ABX9TyNIGrsJgTxYYrP4JAXR0gtW",
      "include_colab_link": true
    },
    "kernelspec": {
      "name": "python3",
      "display_name": "Python 3"
    },
    "language_info": {
      "name": "python"
    }
  },
  "cells": [
    {
      "cell_type": "markdown",
      "metadata": {
        "id": "view-in-github",
        "colab_type": "text"
      },
      "source": [
        "<a href=\"https://colab.research.google.com/github/sg18785/python/blob/main/assignment3.ipynb\" target=\"_parent\"><img src=\"https://colab.research.google.com/assets/colab-badge.svg\" alt=\"Open In Colab\"/></a>"
      ]
    },
    {
      "cell_type": "code",
      "execution_count": 1,
      "metadata": {
        "colab": {
          "base_uri": "https://localhost:8080/"
        },
        "id": "pdIF9hgQDQJu",
        "outputId": "4d9b2f73-dde0-4cdf-c1c8-9f11052dda93"
      },
      "outputs": [
        {
          "output_type": "stream",
          "name": "stdout",
          "text": [
            "[1, 2, 3, 5, 1, 2, 1]\n"
          ]
        }
      ],
      "source": [
        "def grab_positive_numbers(numbers_nested):\n",
        "    positive_numbers = []\n",
        "    for sublist in numbers_nested:\n",
        "        for number in sublist:\n",
        "            if number > 0:\n",
        "                positive_numbers.append(number)\n",
        "    return positive_numbers\n",
        "\n",
        "numbers_nested = [[1, -1, 2], [0, -5, 3, 5, -2], [1, 2, 1, 0, -2, -3]]\n",
        "positive_numbers = grab_positive_numbers(numbers_nested)\n",
        "print(positive_numbers)\n"
      ]
    },
    {
      "cell_type": "code",
      "source": [
        "def calculate_average_sum(L):\n",
        "    sum_of_averages = 0\n",
        "    for inner_list in L:\n",
        "        average = sum(inner_list) / len(inner_list)\n",
        "        sum_of_averages += average\n",
        "    return sum_of_averages\n",
        "\n",
        "L = [[1, 2, 3], [4, 5, 6, 3], [-1, -2, -10, 5, 8]]\n",
        "result = calculate_average_sum(L)\n",
        "print(result)\n"
      ],
      "metadata": {
        "colab": {
          "base_uri": "https://localhost:8080/"
        },
        "id": "zAkGoKdKDa49",
        "outputId": "0322b271-2df7-4743-f11d-3da23c47eee1"
      },
      "execution_count": 2,
      "outputs": [
        {
          "output_type": "stream",
          "name": "stdout",
          "text": [
            "6.5\n"
          ]
        }
      ]
    }
  ]
}